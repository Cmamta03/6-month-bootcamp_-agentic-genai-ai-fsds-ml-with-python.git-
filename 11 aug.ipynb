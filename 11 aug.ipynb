{
 "cells": [
  {
   "cell_type": "markdown",
   "id": "a987fec0",
   "metadata": {},
   "source": [
    "# NUMPY"
   ]
  },
  {
   "cell_type": "code",
   "execution_count": 2,
   "id": "97b5954e",
   "metadata": {},
   "outputs": [],
   "source": [
    "import numpy as np"
   ]
  },
  {
   "cell_type": "code",
   "execution_count": 3,
   "id": "8de0bf28",
   "metadata": {},
   "outputs": [
    {
     "data": {
      "text/plain": [
       "'2.3.2'"
      ]
     },
     "execution_count": 3,
     "metadata": {},
     "output_type": "execute_result"
    }
   ],
   "source": [
    "np.__version__"
   ]
  },
  {
   "cell_type": "code",
   "execution_count": 4,
   "id": "a98894c6",
   "metadata": {},
   "outputs": [
    {
     "data": {
      "text/plain": [
       "[0, 1, 2, 3, 4, 5]"
      ]
     },
     "execution_count": 4,
     "metadata": {},
     "output_type": "execute_result"
    }
   ],
   "source": [
    "my_list = [0,1,2,3,4,5]\n",
    "my_list"
   ]
  },
  {
   "cell_type": "code",
   "execution_count": 5,
   "id": "02bfee6a",
   "metadata": {},
   "outputs": [
    {
     "data": {
      "text/plain": [
       "list"
      ]
     },
     "execution_count": 5,
     "metadata": {},
     "output_type": "execute_result"
    }
   ],
   "source": [
    "type(my_list)"
   ]
  },
  {
   "cell_type": "code",
   "execution_count": 6,
   "id": "6562c451",
   "metadata": {},
   "outputs": [
    {
     "data": {
      "text/plain": [
       "[0, 1, 2, 3, 4, 5]"
      ]
     },
     "execution_count": 6,
     "metadata": {},
     "output_type": "execute_result"
    }
   ],
   "source": [
    "my_list"
   ]
  },
  {
   "cell_type": "code",
   "execution_count": 7,
   "id": "9971cc91",
   "metadata": {},
   "outputs": [
    {
     "data": {
      "text/plain": [
       "array([0, 1, 2, 3, 4, 5])"
      ]
     },
     "execution_count": 7,
     "metadata": {},
     "output_type": "execute_result"
    }
   ],
   "source": [
    "arr = np.array(my_list)\n",
    "arr"
   ]
  },
  {
   "cell_type": "code",
   "execution_count": 165,
   "id": "25879eb0",
   "metadata": {},
   "outputs": [
    {
     "name": "stdout",
     "output_type": "stream",
     "text": [
      "<class 'numpy.ndarray'>\n"
     ]
    }
   ],
   "source": [
    "print(type(arr))"
   ]
  },
  {
   "cell_type": "code",
   "execution_count": 166,
   "id": "5030ab29",
   "metadata": {},
   "outputs": [
    {
     "data": {
      "text/plain": [
       "array([0, 1, 2, 3, 4, 5, 6, 7, 8, 9])"
      ]
     },
     "execution_count": 166,
     "metadata": {},
     "output_type": "execute_result"
    }
   ],
   "source": [
    "np.arange(10)"
   ]
  },
  {
   "cell_type": "code",
   "execution_count": 167,
   "id": "7453feaa",
   "metadata": {},
   "outputs": [
    {
     "data": {
      "text/plain": [
       "array([10, 11, 12, 13, 14, 15, 16, 17, 18, 19])"
      ]
     },
     "execution_count": 167,
     "metadata": {},
     "output_type": "execute_result"
    }
   ],
   "source": [
    "np.arange(10,20)"
   ]
  },
  {
   "cell_type": "code",
   "execution_count": 147,
   "id": "16bd05aa",
   "metadata": {},
   "outputs": [
    {
     "data": {
      "text/plain": [
       "array([10, 15])"
      ]
     },
     "execution_count": 147,
     "metadata": {},
     "output_type": "execute_result"
    }
   ],
   "source": [
    "np.arange(10,20,5)"
   ]
  },
  {
   "cell_type": "code",
   "execution_count": 168,
   "id": "f08506cd",
   "metadata": {},
   "outputs": [
    {
     "data": {
      "text/plain": [
       "array([10, 15, 20, 25, 30, 35, 40, 45])"
      ]
     },
     "execution_count": 168,
     "metadata": {},
     "output_type": "execute_result"
    }
   ],
   "source": [
    "np.arange(10,50,5)"
   ]
  },
  {
   "cell_type": "code",
   "execution_count": 169,
   "id": "d928f340",
   "metadata": {},
   "outputs": [
    {
     "data": {
      "text/plain": [
       "array([], dtype=int64)"
      ]
     },
     "execution_count": 169,
     "metadata": {},
     "output_type": "execute_result"
    }
   ],
   "source": [
    "np.arange(20,10) #1st arg <2nd arg"
   ]
  },
  {
   "cell_type": "code",
   "execution_count": 170,
   "id": "fcd8a080",
   "metadata": {},
   "outputs": [
    {
     "data": {
      "text/plain": [
       "array([-20, -19, -18, -17, -16, -15, -14, -13, -12, -11, -10,  -9,  -8,\n",
       "        -7,  -6,  -5,  -4,  -3,  -2,  -1,   0,   1,   2,   3,   4,   5,\n",
       "         6,   7,   8,   9])"
      ]
     },
     "execution_count": 170,
     "metadata": {},
     "output_type": "execute_result"
    }
   ],
   "source": [
    "np.arange(-20,10)"
   ]
  },
  {
   "cell_type": "code",
   "execution_count": 171,
   "id": "f7dc0420",
   "metadata": {},
   "outputs": [
    {
     "data": {
      "text/plain": [
       "array([0., 0., 0., 0., 0.])"
      ]
     },
     "execution_count": 171,
     "metadata": {},
     "output_type": "execute_result"
    }
   ],
   "source": [
    "np.zeros(5) #parameter tuning"
   ]
  },
  {
   "cell_type": "code",
   "execution_count": 172,
   "id": "3a2e7cdf",
   "metadata": {},
   "outputs": [
    {
     "data": {
      "text/plain": [
       "array([0, 0, 0, 0, 0])"
      ]
     },
     "execution_count": 172,
     "metadata": {},
     "output_type": "execute_result"
    }
   ],
   "source": [
    "np.zeros(5,dtype=int)#hayper parameter tuning"
   ]
  },
  {
   "cell_type": "code",
   "execution_count": 173,
   "id": "4c5ee6e8",
   "metadata": {},
   "outputs": [
    {
     "data": {
      "text/plain": [
       "array([[0., 0.],\n",
       "       [0., 0.]])"
      ]
     },
     "execution_count": 173,
     "metadata": {},
     "output_type": "execute_result"
    }
   ],
   "source": [
    "np.zeros([2,2])"
   ]
  },
  {
   "cell_type": "code",
   "execution_count": 174,
   "id": "6fcafbcc",
   "metadata": {},
   "outputs": [
    {
     "data": {
      "text/plain": [
       "array([[0., 0., 0., 0.],\n",
       "       [0., 0., 0., 0.],\n",
       "       [0., 0., 0., 0.],\n",
       "       [0., 0., 0., 0.],\n",
       "       [0., 0., 0., 0.]])"
      ]
     },
     "execution_count": 174,
     "metadata": {},
     "output_type": "execute_result"
    }
   ],
   "source": [
    "np.zeros([5,4])"
   ]
  },
  {
   "cell_type": "code",
   "execution_count": 175,
   "id": "786c301a",
   "metadata": {},
   "outputs": [
    {
     "data": {
      "text/plain": [
       "array([ 2, 10])"
      ]
     },
     "execution_count": 175,
     "metadata": {},
     "output_type": "execute_result"
    }
   ],
   "source": [
    "np.array([2,10])"
   ]
  },
  {
   "cell_type": "code",
   "execution_count": 8,
   "id": "58d30ec7",
   "metadata": {},
   "outputs": [
    {
     "data": {
      "text/plain": [
       "array([[0, 0, 0, 0, 0, 0, 0, 0, 0, 0],\n",
       "       [0, 0, 0, 0, 0, 0, 0, 0, 0, 0],\n",
       "       [0, 0, 0, 0, 0, 0, 0, 0, 0, 0],\n",
       "       [0, 0, 0, 0, 0, 0, 0, 0, 0, 0],\n",
       "       [0, 0, 0, 0, 0, 0, 0, 0, 0, 0],\n",
       "       [0, 0, 0, 0, 0, 0, 0, 0, 0, 0],\n",
       "       [0, 0, 0, 0, 0, 0, 0, 0, 0, 0],\n",
       "       [0, 0, 0, 0, 0, 0, 0, 0, 0, 0],\n",
       "       [0, 0, 0, 0, 0, 0, 0, 0, 0, 0],\n",
       "       [0, 0, 0, 0, 0, 0, 0, 0, 0, 0]])"
      ]
     },
     "execution_count": 8,
     "metadata": {},
     "output_type": "execute_result"
    }
   ],
   "source": [
    "np.zeros((10,10),dtype=int)"
   ]
  },
  {
   "cell_type": "code",
   "execution_count": 176,
   "id": "78d480a8",
   "metadata": {},
   "outputs": [],
   "source": [
    "#np.array([2,10])--\n",
    "#2-always be rows\n",
    "#10-always be colume"
   ]
  },
  {
   "cell_type": "code",
   "execution_count": 177,
   "id": "a0ec70c0",
   "metadata": {},
   "outputs": [
    {
     "data": {
      "text/plain": [
       "array([1., 1.])"
      ]
     },
     "execution_count": 177,
     "metadata": {},
     "output_type": "execute_result"
    }
   ],
   "source": [
    "np.ones(2)"
   ]
  },
  {
   "cell_type": "code",
   "execution_count": 178,
   "id": "539b54c5",
   "metadata": {},
   "outputs": [
    {
     "data": {
      "text/plain": [
       "array([1, 1])"
      ]
     },
     "execution_count": 178,
     "metadata": {},
     "output_type": "execute_result"
    }
   ],
   "source": [
    "np.ones(2,dtype=int)"
   ]
  },
  {
   "cell_type": "code",
   "execution_count": 179,
   "id": "e86abed1",
   "metadata": {},
   "outputs": [
    {
     "data": {
      "text/plain": [
       "array([[1., 1.],\n",
       "       [1., 1.]])"
      ]
     },
     "execution_count": 179,
     "metadata": {},
     "output_type": "execute_result"
    }
   ],
   "source": [
    "np.ones([2,2])"
   ]
  },
  {
   "cell_type": "code",
   "execution_count": 180,
   "id": "3e6e251f",
   "metadata": {},
   "outputs": [
    {
     "data": {
      "text/plain": [
       "array([[1., 1., 1., 1., 1.],\n",
       "       [1., 1., 1., 1., 1.],\n",
       "       [1., 1., 1., 1., 1.],\n",
       "       [1., 1., 1., 1., 1.]])"
      ]
     },
     "execution_count": 180,
     "metadata": {},
     "output_type": "execute_result"
    }
   ],
   "source": [
    "np.ones([4,5])"
   ]
  },
  {
   "cell_type": "code",
   "execution_count": 9,
   "id": "c19034de",
   "metadata": {},
   "outputs": [
    {
     "data": {
      "text/plain": [
       "array([0, 1, 2, 3, 4, 5])"
      ]
     },
     "execution_count": 9,
     "metadata": {},
     "output_type": "execute_result"
    }
   ],
   "source": [
    "arr"
   ]
  },
  {
   "cell_type": "code",
   "execution_count": 181,
   "id": "bae83adc",
   "metadata": {},
   "outputs": [
    {
     "ename": "NameError",
     "evalue": "name 'rand' is not defined",
     "output_type": "error",
     "traceback": [
      "\u001b[31m---------------------------------------------------------------------------\u001b[39m",
      "\u001b[31mNameError\u001b[39m                                 Traceback (most recent call last)",
      "\u001b[36mCell\u001b[39m\u001b[36m \u001b[39m\u001b[32mIn[181]\u001b[39m\u001b[32m, line 1\u001b[39m\n\u001b[32m----> \u001b[39m\u001b[32m1\u001b[39m \u001b[43mrand\u001b[49m(\u001b[32m3\u001b[39m,\u001b[32m2\u001b[39m)\n",
      "\u001b[31mNameError\u001b[39m: name 'rand' is not defined"
     ]
    }
   ],
   "source": [
    "rand(3,2)"
   ]
  },
  {
   "cell_type": "code",
   "execution_count": 182,
   "id": "eba2eaa5",
   "metadata": {},
   "outputs": [
    {
     "ename": "NameError",
     "evalue": "name 'random' is not defined",
     "output_type": "error",
     "traceback": [
      "\u001b[31m---------------------------------------------------------------------------\u001b[39m",
      "\u001b[31mNameError\u001b[39m                                 Traceback (most recent call last)",
      "\u001b[36mCell\u001b[39m\u001b[36m \u001b[39m\u001b[32mIn[182]\u001b[39m\u001b[32m, line 1\u001b[39m\n\u001b[32m----> \u001b[39m\u001b[32m1\u001b[39m \u001b[43mrandom\u001b[49m.rand(\u001b[32m3\u001b[39m,\u001b[32m2\u001b[39m)\n",
      "\u001b[31mNameError\u001b[39m: name 'random' is not defined"
     ]
    }
   ],
   "source": [
    "random.rand(3,2)"
   ]
  },
  {
   "cell_type": "code",
   "execution_count": 183,
   "id": "fbeb8263",
   "metadata": {},
   "outputs": [
    {
     "data": {
      "text/plain": [
       "array([[0.72476657, 0.78870341],\n",
       "       [0.49915007, 0.14275745],\n",
       "       [0.36986816, 0.08415568]])"
      ]
     },
     "execution_count": 183,
     "metadata": {},
     "output_type": "execute_result"
    }
   ],
   "source": [
    "np.random.rand(3,2)"
   ]
  },
  {
   "cell_type": "code",
   "execution_count": 184,
   "id": "ffe4518a",
   "metadata": {},
   "outputs": [
    {
     "data": {
      "text/plain": [
       "array([0.90877998, 0.72670888, 0.21021539])"
      ]
     },
     "execution_count": 184,
     "metadata": {},
     "output_type": "execute_result"
    }
   ],
   "source": [
    "np.random.rand(3)"
   ]
  },
  {
   "cell_type": "code",
   "execution_count": 185,
   "id": "8c7ffd89",
   "metadata": {},
   "outputs": [
    {
     "data": {
      "text/plain": [
       "5"
      ]
     },
     "execution_count": 185,
     "metadata": {},
     "output_type": "execute_result"
    }
   ],
   "source": [
    "np.random.randint(4,6)"
   ]
  },
  {
   "cell_type": "code",
   "execution_count": 186,
   "id": "c9485828",
   "metadata": {},
   "outputs": [
    {
     "data": {
      "text/plain": [
       "3"
      ]
     },
     "execution_count": 186,
     "metadata": {},
     "output_type": "execute_result"
    }
   ],
   "source": [
    "np.random.randint(0,10)"
   ]
  },
  {
   "cell_type": "code",
   "execution_count": 10,
   "id": "5783cbef",
   "metadata": {},
   "outputs": [
    {
     "data": {
      "text/plain": [
       "array([2, 8, 1, 7], dtype=int32)"
      ]
     },
     "execution_count": 10,
     "metadata": {},
     "output_type": "execute_result"
    }
   ],
   "source": [
    "np.random.randint(0,10,4)"
   ]
  },
  {
   "cell_type": "code",
   "execution_count": 187,
   "id": "49a555b4",
   "metadata": {},
   "outputs": [
    {
     "data": {
      "text/plain": [
       "array([5, 4, 5, 0, 2], dtype=int32)"
      ]
     },
     "execution_count": 187,
     "metadata": {},
     "output_type": "execute_result"
    }
   ],
   "source": [
    "np.random.randint(0,10,5)"
   ]
  },
  {
   "cell_type": "code",
   "execution_count": 12,
   "id": "7e01eaf3",
   "metadata": {},
   "outputs": [],
   "source": [
    "n = np.random.randint(10,40,(8,10))"
   ]
  },
  {
   "cell_type": "code",
   "execution_count": 13,
   "id": "747110d5",
   "metadata": {},
   "outputs": [
    {
     "data": {
      "text/plain": [
       "array([[30, 18, 13, 37, 17, 16, 31, 16, 13, 33],\n",
       "       [21, 12, 38, 24, 32, 26, 17, 34, 36, 23],\n",
       "       [16, 17, 10, 13, 18, 23, 12, 24, 16, 30],\n",
       "       [24, 33, 37, 22, 13, 30, 36, 28, 19, 24],\n",
       "       [24, 34, 22, 26, 28, 28, 23, 26, 15, 27],\n",
       "       [35, 29, 16, 28, 29, 31, 36, 39, 11, 34],\n",
       "       [29, 15, 17, 20, 23, 12, 17, 34, 31, 37],\n",
       "       [16, 17, 31, 24, 15, 18, 24, 30, 30, 23]], dtype=int32)"
      ]
     },
     "execution_count": 13,
     "metadata": {},
     "output_type": "execute_result"
    }
   ],
   "source": [
    "n"
   ]
  },
  {
   "cell_type": "code",
   "execution_count": 198,
   "id": "99d049c2",
   "metadata": {},
   "outputs": [
    {
     "data": {
      "text/plain": [
       "array([26, 29, 18, 23, 29, 28, 20, 36, 19, 24], dtype=int32)"
      ]
     },
     "execution_count": 198,
     "metadata": {},
     "output_type": "execute_result"
    }
   ],
   "source": [
    "n[5]"
   ]
  },
  {
   "cell_type": "code",
   "execution_count": 14,
   "id": "b9f138e3",
   "metadata": {},
   "outputs": [
    {
     "data": {
      "text/plain": [
       "array([[30, 18, 13, 37, 17, 16, 31, 16, 13, 33],\n",
       "       [21, 12, 38, 24, 32, 26, 17, 34, 36, 23],\n",
       "       [16, 17, 10, 13, 18, 23, 12, 24, 16, 30],\n",
       "       [24, 33, 37, 22, 13, 30, 36, 28, 19, 24],\n",
       "       [24, 34, 22, 26, 28, 28, 23, 26, 15, 27],\n",
       "       [35, 29, 16, 28, 29, 31, 36, 39, 11, 34],\n",
       "       [29, 15, 17, 20, 23, 12, 17, 34, 31, 37],\n",
       "       [16, 17, 31, 24, 15, 18, 24, 30, 30, 23]], dtype=int32)"
      ]
     },
     "execution_count": 14,
     "metadata": {},
     "output_type": "execute_result"
    }
   ],
   "source": [
    "n"
   ]
  },
  {
   "cell_type": "code",
   "execution_count": 199,
   "id": "b17af87e",
   "metadata": {},
   "outputs": [
    {
     "data": {
      "text/plain": [
       "array([[24, 18, 32, 28, 25, 20, 18, 31, 15, 26],\n",
       "       [18, 18, 19, 17, 30, 34, 28, 21, 15, 12],\n",
       "       [26, 32, 33, 27, 16, 11, 14, 27, 13, 18],\n",
       "       [30, 32, 17, 30, 25, 13, 16, 12, 14, 25],\n",
       "       [36, 17, 28, 30, 25, 25, 36, 11, 33, 32],\n",
       "       [26, 29, 18, 23, 29, 28, 20, 36, 19, 24]], dtype=int32)"
      ]
     },
     "execution_count": 199,
     "metadata": {},
     "output_type": "execute_result"
    }
   ],
   "source": [
    "n[0:6]"
   ]
  },
  {
   "cell_type": "code",
   "execution_count": 15,
   "id": "f667b493",
   "metadata": {},
   "outputs": [
    {
     "data": {
      "text/plain": [
       "array([[30, 18, 13, 37, 17, 16, 31, 16, 13, 33],\n",
       "       [21, 12, 38, 24, 32, 26, 17, 34, 36, 23],\n",
       "       [16, 17, 10, 13, 18, 23, 12, 24, 16, 30],\n",
       "       [24, 33, 37, 22, 13, 30, 36, 28, 19, 24],\n",
       "       [24, 34, 22, 26, 28, 28, 23, 26, 15, 27],\n",
       "       [35, 29, 16, 28, 29, 31, 36, 39, 11, 34],\n",
       "       [29, 15, 17, 20, 23, 12, 17, 34, 31, 37],\n",
       "       [16, 17, 31, 24, 15, 18, 24, 30, 30, 23]], dtype=int32)"
      ]
     },
     "execution_count": 15,
     "metadata": {},
     "output_type": "execute_result"
    }
   ],
   "source": [
    "n"
   ]
  },
  {
   "cell_type": "code",
   "execution_count": 192,
   "id": "80a2f6a9",
   "metadata": {},
   "outputs": [
    {
     "data": {
      "text/plain": [
       "array([39, 36, 13, 35, 21, 21, 27, 21, 17, 16], dtype=int32)"
      ]
     },
     "execution_count": 192,
     "metadata": {},
     "output_type": "execute_result"
    }
   ],
   "source": [
    "n[0]"
   ]
  },
  {
   "cell_type": "code",
   "execution_count": 200,
   "id": "01636180",
   "metadata": {},
   "outputs": [
    {
     "data": {
      "text/plain": [
       "array([[24, 25, 15, 14, 14, 24, 33, 25, 30, 15],\n",
       "       [34, 27, 12, 22, 25, 18, 39, 39, 24, 11],\n",
       "       [31, 34, 21, 11, 28, 32, 26, 10, 21, 20],\n",
       "       [14, 31, 23, 33, 11, 35, 31, 21, 39, 25],\n",
       "       [26, 29, 18, 23, 29, 28, 20, 36, 19, 24],\n",
       "       [36, 17, 28, 30, 25, 25, 36, 11, 33, 32],\n",
       "       [30, 32, 17, 30, 25, 13, 16, 12, 14, 25],\n",
       "       [26, 32, 33, 27, 16, 11, 14, 27, 13, 18],\n",
       "       [18, 18, 19, 17, 30, 34, 28, 21, 15, 12],\n",
       "       [24, 18, 32, 28, 25, 20, 18, 31, 15, 26]], dtype=int32)"
      ]
     },
     "execution_count": 200,
     "metadata": {},
     "output_type": "execute_result"
    }
   ],
   "source": [
    "n[::-1]"
   ]
  },
  {
   "cell_type": "code",
   "execution_count": 201,
   "id": "0a6eba69",
   "metadata": {},
   "outputs": [
    {
     "data": {
      "text/plain": [
       "array([[24, 18, 32, 28, 25, 20, 18, 31, 15, 26],\n",
       "       [18, 18, 19, 17, 30, 34, 28, 21, 15, 12],\n",
       "       [26, 32, 33, 27, 16, 11, 14, 27, 13, 18],\n",
       "       [30, 32, 17, 30, 25, 13, 16, 12, 14, 25],\n",
       "       [36, 17, 28, 30, 25, 25, 36, 11, 33, 32],\n",
       "       [26, 29, 18, 23, 29, 28, 20, 36, 19, 24],\n",
       "       [14, 31, 23, 33, 11, 35, 31, 21, 39, 25],\n",
       "       [31, 34, 21, 11, 28, 32, 26, 10, 21, 20],\n",
       "       [34, 27, 12, 22, 25, 18, 39, 39, 24, 11],\n",
       "       [24, 25, 15, 14, 14, 24, 33, 25, 30, 15]], dtype=int32)"
      ]
     },
     "execution_count": 201,
     "metadata": {},
     "output_type": "execute_result"
    }
   ],
   "source": [
    "n"
   ]
  },
  {
   "cell_type": "code",
   "execution_count": 202,
   "id": "cf43ec15",
   "metadata": {},
   "outputs": [
    {
     "data": {
      "text/plain": [
       "array([[24, 18, 32, 28, 25, 20, 18, 31, 15, 26],\n",
       "       [18, 18, 19, 17, 30, 34, 28, 21, 15, 12],\n",
       "       [26, 32, 33, 27, 16, 11, 14, 27, 13, 18],\n",
       "       [30, 32, 17, 30, 25, 13, 16, 12, 14, 25],\n",
       "       [36, 17, 28, 30, 25, 25, 36, 11, 33, 32],\n",
       "       [26, 29, 18, 23, 29, 28, 20, 36, 19, 24],\n",
       "       [14, 31, 23, 33, 11, 35, 31, 21, 39, 25],\n",
       "       [31, 34, 21, 11, 28, 32, 26, 10, 21, 20],\n",
       "       [34, 27, 12, 22, 25, 18, 39, 39, 24, 11],\n",
       "       [24, 25, 15, 14, 14, 24, 33, 25, 30, 15]], dtype=int32)"
      ]
     },
     "execution_count": 202,
     "metadata": {},
     "output_type": "execute_result"
    }
   ],
   "source": [
    "n[::1]"
   ]
  },
  {
   "cell_type": "code",
   "execution_count": 203,
   "id": "151ce900",
   "metadata": {},
   "outputs": [
    {
     "data": {
      "text/plain": [
       "array([[24, 18, 32, 28, 25, 20, 18, 31, 15, 26],\n",
       "       [26, 32, 33, 27, 16, 11, 14, 27, 13, 18],\n",
       "       [36, 17, 28, 30, 25, 25, 36, 11, 33, 32],\n",
       "       [14, 31, 23, 33, 11, 35, 31, 21, 39, 25],\n",
       "       [34, 27, 12, 22, 25, 18, 39, 39, 24, 11]], dtype=int32)"
      ]
     },
     "execution_count": 203,
     "metadata": {},
     "output_type": "execute_result"
    }
   ],
   "source": [
    "n[::2]"
   ]
  },
  {
   "cell_type": "code",
   "execution_count": 204,
   "id": "d7f64cc9",
   "metadata": {},
   "outputs": [
    {
     "data": {
      "text/plain": [
       "array([[24, 18, 32, 28, 25, 20, 18, 31, 15, 26],\n",
       "       [18, 18, 19, 17, 30, 34, 28, 21, 15, 12],\n",
       "       [26, 32, 33, 27, 16, 11, 14, 27, 13, 18],\n",
       "       [30, 32, 17, 30, 25, 13, 16, 12, 14, 25],\n",
       "       [36, 17, 28, 30, 25, 25, 36, 11, 33, 32],\n",
       "       [26, 29, 18, 23, 29, 28, 20, 36, 19, 24],\n",
       "       [14, 31, 23, 33, 11, 35, 31, 21, 39, 25],\n",
       "       [31, 34, 21, 11, 28, 32, 26, 10, 21, 20],\n",
       "       [34, 27, 12, 22, 25, 18, 39, 39, 24, 11],\n",
       "       [24, 25, 15, 14, 14, 24, 33, 25, 30, 15]], dtype=int32)"
      ]
     },
     "execution_count": 204,
     "metadata": {},
     "output_type": "execute_result"
    }
   ],
   "source": [
    "n"
   ]
  },
  {
   "cell_type": "code",
   "execution_count": 205,
   "id": "400a72ca",
   "metadata": {},
   "outputs": [
    {
     "data": {
      "text/plain": [
       "array([24, 18, 32, 28, 25, 20, 18, 31, 15, 26], dtype=int32)"
      ]
     },
     "execution_count": 205,
     "metadata": {},
     "output_type": "execute_result"
    }
   ],
   "source": [
    "n[0]"
   ]
  },
  {
   "cell_type": "code",
   "execution_count": 210,
   "id": "a0349cb7",
   "metadata": {},
   "outputs": [
    {
     "data": {
      "text/plain": [
       "array([[24, 18, 32, 28, 25, 20, 18, 31, 15, 26],\n",
       "       [18, 18, 19, 17, 30, 34, 28, 21, 15, 12],\n",
       "       [26, 32, 33, 27, 16, 11, 14, 27, 13, 18],\n",
       "       [30, 32, 17, 30, 25, 13, 16, 12, 14, 25],\n",
       "       [36, 17, 28, 30, 25, 25, 36, 11, 33, 32],\n",
       "       [26, 29, 18, 23, 29, 28, 20, 36, 19, 24],\n",
       "       [14, 31, 23, 33, 11, 35, 31, 21, 39, 25],\n",
       "       [31, 34, 21, 11, 28, 32, 26, 10, 21, 20],\n",
       "       [34, 27, 12, 22, 25, 18, 39, 39, 24, 11],\n",
       "       [24, 25, 15, 14, 14, 24, 33, 25, 30, 15]], dtype=int32)"
      ]
     },
     "execution_count": 210,
     "metadata": {},
     "output_type": "execute_result"
    }
   ],
   "source": [
    "n"
   ]
  },
  {
   "cell_type": "code",
   "execution_count": 213,
   "id": "65a3104e",
   "metadata": {},
   "outputs": [
    {
     "data": {
      "text/plain": [
       "array([[24, 18, 32, 28, 25, 20, 18, 31, 15, 26],\n",
       "       [18, 18, 19, 17, 30, 34, 28, 21, 15, 12],\n",
       "       [26, 32, 33, 27, 16, 11, 14, 27, 13, 18],\n",
       "       [30, 32, 17, 30, 25, 13, 16, 12, 14, 25],\n",
       "       [36, 17, 28, 30, 25, 25, 36, 11, 33, 32]], dtype=int32)"
      ]
     },
     "execution_count": 213,
     "metadata": {},
     "output_type": "execute_result"
    }
   ],
   "source": [
    "n[0:5]"
   ]
  },
  {
   "cell_type": "code",
   "execution_count": null,
   "id": "4056907f",
   "metadata": {},
   "outputs": [
    {
     "data": {
      "text/plain": [
       "np.int32(20)"
      ]
     },
     "execution_count": 214,
     "metadata": {},
     "output_type": "execute_result"
    }
   ],
   "source": [
    "n[0,5] #in matrix(,) specific position"
   ]
  },
  {
   "cell_type": "code",
   "execution_count": 215,
   "id": "90366ec2",
   "metadata": {},
   "outputs": [
    {
     "data": {
      "text/plain": [
       "np.int32(36)"
      ]
     },
     "execution_count": 215,
     "metadata": {},
     "output_type": "execute_result"
    }
   ],
   "source": [
    "n[5,-3]"
   ]
  },
  {
   "cell_type": "code",
   "execution_count": 216,
   "id": "3d5ecb4c",
   "metadata": {},
   "outputs": [
    {
     "data": {
      "text/plain": [
       "array([[ 1,  2,  3,  4],\n",
       "       [ 5,  6,  7,  8],\n",
       "       [ 9, 10, 11, 12]])"
      ]
     },
     "execution_count": 216,
     "metadata": {},
     "output_type": "execute_result"
    }
   ],
   "source": [
    "np.arange(1,13).reshape(3,4)"
   ]
  },
  {
   "cell_type": "code",
   "execution_count": 218,
   "id": "7e3a3905",
   "metadata": {},
   "outputs": [
    {
     "name": "stdout",
     "output_type": "stream",
     "text": [
      "36\n"
     ]
    }
   ],
   "source": [
    "print(n[5,-3])"
   ]
  },
  {
   "cell_type": "code",
   "execution_count": null,
   "id": "16301ba7",
   "metadata": {},
   "outputs": [
    {
     "name": "stdout",
     "output_type": "stream",
     "text": [
      "10\n"
     ]
    }
   ],
   "source": [
    "import numpy as np\n",
    "\n",
    "x= np.int32(10)\n",
    "print(x)"
   ]
  },
  {
   "cell_type": "code",
   "execution_count": 219,
   "id": "b1693dfa",
   "metadata": {},
   "outputs": [
    {
     "ename": "ValueError",
     "evalue": "cannot reshape array of size 12 into shape (5,5)",
     "output_type": "error",
     "traceback": [
      "\u001b[31m---------------------------------------------------------------------------\u001b[39m",
      "\u001b[31mValueError\u001b[39m                                Traceback (most recent call last)",
      "\u001b[36mCell\u001b[39m\u001b[36m \u001b[39m\u001b[32mIn[219]\u001b[39m\u001b[32m, line 1\u001b[39m\n\u001b[32m----> \u001b[39m\u001b[32m1\u001b[39m \u001b[43mnp\u001b[49m\u001b[43m.\u001b[49m\u001b[43marange\u001b[49m\u001b[43m(\u001b[49m\u001b[32;43m1\u001b[39;49m\u001b[43m,\u001b[49m\u001b[32;43m13\u001b[39;49m\u001b[43m)\u001b[49m\u001b[43m.\u001b[49m\u001b[43mreshape\u001b[49m\u001b[43m(\u001b[49m\u001b[32;43m5\u001b[39;49m\u001b[43m,\u001b[49m\u001b[32;43m5\u001b[39;49m\u001b[43m)\u001b[49m\n",
      "\u001b[31mValueError\u001b[39m: cannot reshape array of size 12 into shape (5,5)"
     ]
    }
   ],
   "source": [
    "np.arange(1,13).reshape(5,5)"
   ]
  },
  {
   "cell_type": "code",
   "execution_count": 220,
   "id": "92b338ea",
   "metadata": {},
   "outputs": [
    {
     "data": {
      "text/plain": [
       "array([[ 1,  2],\n",
       "       [ 3,  4],\n",
       "       [ 5,  6],\n",
       "       [ 7,  8],\n",
       "       [ 9, 10],\n",
       "       [11, 12]])"
      ]
     },
     "execution_count": 220,
     "metadata": {},
     "output_type": "execute_result"
    }
   ],
   "source": [
    "np.arange(1,13).reshape(6,2)"
   ]
  },
  {
   "cell_type": "code",
   "execution_count": 222,
   "id": "3ded2d75",
   "metadata": {},
   "outputs": [
    {
     "data": {
      "text/plain": [
       "array([[ 1,  2,  3,  4,  5,  6],\n",
       "       [ 7,  8,  9, 10, 11, 12]])"
      ]
     },
     "execution_count": 222,
     "metadata": {},
     "output_type": "execute_result"
    }
   ],
   "source": [
    "np.arange(1,13).reshape(2,6)"
   ]
  },
  {
   "cell_type": "code",
   "execution_count": null,
   "id": "48da6deb",
   "metadata": {},
   "outputs": [],
   "source": []
  },
  {
   "cell_type": "code",
   "execution_count": null,
   "id": "a47dcd12",
   "metadata": {},
   "outputs": [],
   "source": []
  },
  {
   "cell_type": "code",
   "execution_count": null,
   "id": "1cd38182",
   "metadata": {},
   "outputs": [],
   "source": []
  },
  {
   "cell_type": "code",
   "execution_count": null,
   "id": "e61087fc",
   "metadata": {},
   "outputs": [],
   "source": []
  },
  {
   "cell_type": "code",
   "execution_count": null,
   "id": "f4dbb5c3",
   "metadata": {},
   "outputs": [],
   "source": []
  }
 ],
 "metadata": {
  "kernelspec": {
   "display_name": "Python 3",
   "language": "python",
   "name": "python3"
  },
  "language_info": {
   "codemirror_mode": {
    "name": "ipython",
    "version": 3
   },
   "file_extension": ".py",
   "mimetype": "text/x-python",
   "name": "python",
   "nbconvert_exporter": "python",
   "pygments_lexer": "ipython3",
   "version": "3.13.1"
  }
 },
 "nbformat": 4,
 "nbformat_minor": 5
}

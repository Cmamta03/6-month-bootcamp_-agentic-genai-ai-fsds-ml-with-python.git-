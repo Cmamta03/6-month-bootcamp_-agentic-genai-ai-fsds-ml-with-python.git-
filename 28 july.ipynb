{
 "cells": [
  {
   "cell_type": "markdown",
   "id": "2b1668aa",
   "metadata": {},
   "source": [
    "# addition"
   ]
  },
  {
   "cell_type": "code",
   "execution_count": 1,
   "id": "effffb6d",
   "metadata": {},
   "outputs": [
    {
     "name": "stdout",
     "output_type": "stream",
     "text": [
      "8\n"
     ]
    }
   ],
   "source": [
    "print(3+5)"
   ]
  },
  {
   "cell_type": "markdown",
   "id": "e5c2aa88",
   "metadata": {},
   "source": [
    "# subtraction"
   ]
  },
  {
   "cell_type": "code",
   "execution_count": 2,
   "id": "66d1b8ee",
   "metadata": {},
   "outputs": [
    {
     "name": "stdout",
     "output_type": "stream",
     "text": [
      "2\n"
     ]
    }
   ],
   "source": [
    "print(5-3)"
   ]
  },
  {
   "cell_type": "markdown",
   "id": "e3b9d9dc",
   "metadata": {},
   "source": [
    "# multiplication"
   ]
  },
  {
   "cell_type": "code",
   "execution_count": 3,
   "id": "8f63856b",
   "metadata": {},
   "outputs": [
    {
     "name": "stdout",
     "output_type": "stream",
     "text": [
      "15\n"
     ]
    }
   ],
   "source": [
    "print(5*3)"
   ]
  },
  {
   "cell_type": "markdown",
   "id": "03630a47",
   "metadata": {},
   "source": [
    "# division"
   ]
  },
  {
   "cell_type": "code",
   "execution_count": 4,
   "id": "7c9eb72e",
   "metadata": {},
   "outputs": [
    {
     "name": "stdout",
     "output_type": "stream",
     "text": [
      "1.6666666666666667\n"
     ]
    }
   ],
   "source": [
    "print(5/3)"
   ]
  },
  {
   "cell_type": "markdown",
   "id": "cce9b288",
   "metadata": {},
   "source": [
    "# exponential"
   ]
  },
  {
   "cell_type": "code",
   "execution_count": 6,
   "id": "06157de7",
   "metadata": {},
   "outputs": [
    {
     "name": "stdout",
     "output_type": "stream",
     "text": [
      "243\n"
     ]
    }
   ],
   "source": [
    "print(3**5)"
   ]
  },
  {
   "cell_type": "markdown",
   "id": "cb3b29c9",
   "metadata": {},
   "source": [
    "# modules"
   ]
  },
  {
   "cell_type": "code",
   "execution_count": 5,
   "id": "d93ec5f6",
   "metadata": {},
   "outputs": [
    {
     "name": "stdout",
     "output_type": "stream",
     "text": [
      "2\n"
     ]
    }
   ],
   "source": [
    "print(5%3)"
   ]
  },
  {
   "cell_type": "markdown",
   "id": "bdaece7b",
   "metadata": {},
   "source": [
    "# floor division operator"
   ]
  },
  {
   "cell_type": "code",
   "execution_count": 8,
   "id": "e3ae366f",
   "metadata": {},
   "outputs": [
    {
     "name": "stdout",
     "output_type": "stream",
     "text": [
      "1\n"
     ]
    }
   ],
   "source": [
    "print(5//3)"
   ]
  },
  {
   "cell_type": "markdown",
   "id": "ea1b6e7f",
   "metadata": {},
   "source": [
    "# check data type"
   ]
  },
  {
   "cell_type": "code",
   "execution_count": 9,
   "id": "6553eeb8",
   "metadata": {},
   "outputs": [
    {
     "name": "stdout",
     "output_type": "stream",
     "text": [
      "<class 'int'>\n"
     ]
    }
   ],
   "source": [
    "print(type(10))"
   ]
  },
  {
   "cell_type": "code",
   "execution_count": 10,
   "id": "ce6cb7d1",
   "metadata": {},
   "outputs": [
    {
     "name": "stdout",
     "output_type": "stream",
     "text": [
      "<class 'float'>\n"
     ]
    }
   ],
   "source": [
    "print(type(3.8))"
   ]
  },
  {
   "cell_type": "code",
   "execution_count": 12,
   "id": "aca351ec",
   "metadata": {},
   "outputs": [
    {
     "name": "stdout",
     "output_type": "stream",
     "text": [
      "<class 'complex'>\n"
     ]
    }
   ],
   "source": [
    "print(type(1+3j))"
   ]
  },
  {
   "cell_type": "code",
   "execution_count": 14,
   "id": "f132100b",
   "metadata": {},
   "outputs": [
    {
     "name": "stdout",
     "output_type": "stream",
     "text": [
      "<class 'str'>\n"
     ]
    }
   ],
   "source": [
    "print(type('Asabeneh'))"
   ]
  },
  {
   "cell_type": "code",
   "execution_count": 16,
   "id": "97bce679",
   "metadata": {},
   "outputs": [
    {
     "name": "stdout",
     "output_type": "stream",
     "text": [
      "<class 'list'>\n"
     ]
    }
   ],
   "source": [
    "print(type([1, 2, 3]))"
   ]
  },
  {
   "cell_type": "code",
   "execution_count": 17,
   "id": "02026e5a",
   "metadata": {},
   "outputs": [
    {
     "name": "stdout",
     "output_type": "stream",
     "text": [
      "<class 'dict'>\n"
     ]
    }
   ],
   "source": [
    "print(type({'name': 'sai'}))"
   ]
  },
  {
   "cell_type": "code",
   "execution_count": 19,
   "id": "20e1391f",
   "metadata": {},
   "outputs": [
    {
     "name": "stdout",
     "output_type": "stream",
     "text": [
      "<class 'set'>\n"
     ]
    }
   ],
   "source": [
    "print(type({1.2, 2.3, 3.4}))"
   ]
  },
  {
   "cell_type": "code",
   "execution_count": 20,
   "id": "ece3df89",
   "metadata": {},
   "outputs": [
    {
     "name": "stdout",
     "output_type": "stream",
     "text": [
      "<class 'tuple'>\n"
     ]
    }
   ],
   "source": [
    "print(type((1.2, 2.3, 3.4)))"
   ]
  },
  {
   "cell_type": "code",
   "execution_count": 21,
   "id": "2f2f4b7a",
   "metadata": {},
   "outputs": [
    {
     "name": "stdout",
     "output_type": "stream",
     "text": [
      "<class 'bool'>\n"
     ]
    }
   ],
   "source": [
    "print(type(3== 3))"
   ]
  },
  {
   "cell_type": "code",
   "execution_count": 23,
   "id": "c252ed53",
   "metadata": {},
   "outputs": [
    {
     "name": "stdout",
     "output_type": "stream",
     "text": [
      "<class 'bool'>\n"
     ]
    }
   ],
   "source": [
    "print(type(3>= 3))"
   ]
  },
  {
   "cell_type": "markdown",
   "id": "47c0ba30",
   "metadata": {},
   "source": [
    "# Arithmatic opration in python"
   ]
  },
  {
   "cell_type": "markdown",
   "id": "6dacc5ec",
   "metadata": {},
   "source": [
    "## integers"
   ]
  },
  {
   "cell_type": "code",
   "execution_count": 24,
   "id": "77e535d2",
   "metadata": {},
   "outputs": [
    {
     "name": "stdout",
     "output_type": "stream",
     "text": [
      "Addition: 3\n"
     ]
    }
   ],
   "source": [
    "print('Addition:', 1+ 2)"
   ]
  },
  {
   "cell_type": "code",
   "execution_count": 25,
   "id": "7b5a601b",
   "metadata": {},
   "outputs": [
    {
     "name": "stdout",
     "output_type": "stream",
     "text": [
      "Subtraction: 1\n"
     ]
    }
   ],
   "source": [
    "print('Subtraction:', 3- 2)"
   ]
  },
  {
   "cell_type": "code",
   "execution_count": 27,
   "id": "6eabca84",
   "metadata": {},
   "outputs": [
    {
     "name": "stdout",
     "output_type": "stream",
     "text": [
      "Multiplication: 2\n"
     ]
    }
   ],
   "source": [
    "print('Multiplication:', 1* 2)"
   ]
  },
  {
   "cell_type": "code",
   "execution_count": 28,
   "id": "7664852b",
   "metadata": {},
   "outputs": [
    {
     "name": "stdout",
     "output_type": "stream",
     "text": [
      "Division: 3.5\n"
     ]
    }
   ],
   "source": [
    "print('Division:', 7/2)"
   ]
  },
  {
   "cell_type": "code",
   "execution_count": 29,
   "id": "c43dbc29",
   "metadata": {},
   "outputs": [
    {
     "name": "stdout",
     "output_type": "stream",
     "text": [
      "Divition without the remainder: 3\n"
     ]
    }
   ],
   "source": [
    "print('Divition without the remainder:', 7//2)"
   ]
  },
  {
   "cell_type": "code",
   "execution_count": 30,
   "id": "9732e127",
   "metadata": {},
   "outputs": [
    {
     "name": "stdout",
     "output_type": "stream",
     "text": [
      "Modules: 1\n"
     ]
    }
   ],
   "source": [
    "print('Modules:', 3%2)"
   ]
  },
  {
   "cell_type": "code",
   "execution_count": 31,
   "id": "49b6fe6d",
   "metadata": {},
   "outputs": [
    {
     "name": "stdout",
     "output_type": "stream",
     "text": [
      "Exponential: 25\n"
     ]
    }
   ],
   "source": [
    "print('Exponential:', 5**2)"
   ]
  },
  {
   "cell_type": "markdown",
   "id": "60c437ac",
   "metadata": {},
   "source": [
    "# floating numbers"
   ]
  },
  {
   "cell_type": "code",
   "execution_count": 33,
   "id": "89bd3391",
   "metadata": {},
   "outputs": [
    {
     "name": "stdout",
     "output_type": "stream",
     "text": [
      "Floating Number,PI 3.14\n"
     ]
    }
   ],
   "source": [
    "print('Floating Number,PI', 3.14)"
   ]
  },
  {
   "cell_type": "code",
   "execution_count": 35,
   "id": "ed75fe0c",
   "metadata": {},
   "outputs": [
    {
     "name": "stdout",
     "output_type": "stream",
     "text": [
      "Floating Number, gravity 9.81\n"
     ]
    }
   ],
   "source": [
    "print('Floating Number, gravity', 9.81)"
   ]
  },
  {
   "cell_type": "markdown",
   "id": "f83020ce",
   "metadata": {},
   "source": [
    "# complex number"
   ]
  },
  {
   "cell_type": "code",
   "execution_count": 36,
   "id": "2d6c92c3",
   "metadata": {},
   "outputs": [
    {
     "name": "stdout",
     "output_type": "stream",
     "text": [
      "complex number: (1+1j)\n"
     ]
    }
   ],
   "source": [
    "print('complex number:', 1 + 1j)"
   ]
  },
  {
   "cell_type": "code",
   "execution_count": 37,
   "id": "3ce258e3",
   "metadata": {},
   "outputs": [
    {
     "name": "stdout",
     "output_type": "stream",
     "text": [
      "Multiplying complex number: (2+0j)\n"
     ]
    }
   ],
   "source": [
    "print('Multiplying complex number:',(1 + 1j) * (1 - 1j))"
   ]
  },
  {
   "cell_type": "markdown",
   "id": "1cb9038e",
   "metadata": {},
   "source": [
    "# Arithmetic operations and assigning the result to a variable"
   ]
  },
  {
   "cell_type": "code",
   "execution_count": 39,
   "id": "eb649ddc",
   "metadata": {},
   "outputs": [
    {
     "name": "stdout",
     "output_type": "stream",
     "text": [
      "a + b =  8\n",
      "a - b =  2\n",
      "a * b =  15\n",
      "a / b =  1.6666666666666667\n",
      "a % b =  2\n",
      "a // b =  1\n",
      "a ** b =  125\n"
     ]
    }
   ],
   "source": [
    "a = 5\n",
    "b = 3\n",
    "total = a + b\n",
    "diff = a - b\n",
    "product = a * b\n",
    "division = a / b\n",
    "remainder = a % b\n",
    "floor_division = a // b\n",
    "expoential = a ** b\n",
    "print('a + b = ', total)\n",
    "print('a - b = ', diff)\n",
    "print('a * b = ', product)\n",
    "print('a / b = ', division)\n",
    "print('a % b = ', remainder)\n",
    "print('a // b = ', floor_division)\n",
    "print('a ** b = ', expoential)"
   ]
  },
  {
   "cell_type": "markdown",
   "id": "762d7642",
   "metadata": {},
   "source": [
    "# Declaring values and organizing them together"
   ]
  },
  {
   "cell_type": "code",
   "execution_count": 42,
   "id": "ce0a9bff",
   "metadata": {},
   "outputs": [
    {
     "name": "stdout",
     "output_type": "stream",
     "text": [
      "total: 7\n",
      "diffrence: 3\n",
      "product: 10\n",
      "division: 2.5\n",
      "remainder: 1\n"
     ]
    }
   ],
   "source": [
    "num_one = 2\n",
    "num_two = 5\n",
    "total = num_one + num_two\n",
    "diff = num_two - num_one\n",
    "product = num_one * num_two\n",
    "div = num_two / num_one\n",
    "remainder = num_two % num_one\n",
    "print('total:',total)\n",
    "print('diffrence:',diff)\n",
    "print('product:', product)\n",
    "print('division:', div)\n",
    "print('remainder:',remainder)"
   ]
  },
  {
   "cell_type": "markdown",
   "id": "ac8f2554",
   "metadata": {},
   "source": [
    "# Calculating Area of Circle"
   ]
  },
  {
   "cell_type": "code",
   "execution_count": 43,
   "id": "aa1d90a4",
   "metadata": {},
   "outputs": [
    {
     "name": "stdout",
     "output_type": "stream",
     "text": [
      "area of circle: 314.0\n"
     ]
    }
   ],
   "source": [
    "radius = 10\n",
    "area_of_circle = 3.14 * radius ** 2\n",
    "print('area of circle:',area_of_circle)"
   ]
  },
  {
   "cell_type": "markdown",
   "id": "fdfdb891",
   "metadata": {},
   "source": [
    "# Calculating Area Of Rectangle"
   ]
  },
  {
   "cell_type": "code",
   "execution_count": 44,
   "id": "58e95b2a",
   "metadata": {},
   "outputs": [
    {
     "name": "stdout",
     "output_type": "stream",
     "text": [
      "area of rectangle: 570\n"
     ]
    }
   ],
   "source": [
    "length = 19\n",
    "width = 30\n",
    "area_of_rectangle = length * width\n",
    "print('area of rectangle:', area_of_rectangle)"
   ]
  },
  {
   "cell_type": "markdown",
   "id": "8cc7d2f6",
   "metadata": {},
   "source": [
    "# Calculating a weight of an object"
   ]
  },
  {
   "cell_type": "code",
   "execution_count": 45,
   "id": "36875222",
   "metadata": {},
   "outputs": [
    {
     "name": "stdout",
     "output_type": "stream",
     "text": [
      "529.74 N\n"
     ]
    }
   ],
   "source": [
    "mass = 54\n",
    "gravity = 9.81\n",
    "weight = mass * gravity\n",
    "print(weight,'N')"
   ]
  },
  {
   "cell_type": "code",
   "execution_count": 46,
   "id": "4a9a3b35",
   "metadata": {},
   "outputs": [
    {
     "name": "stdout",
     "output_type": "stream",
     "text": [
      "True\n",
      "True\n",
      "False\n",
      "True\n",
      "True\n",
      "False\n",
      "True\n",
      "False\n",
      "True\n",
      "True\n",
      "False\n",
      "True\n",
      "True\n",
      "False\n"
     ]
    }
   ],
   "source": [
    "print(3 > 2)\n",
    "print(3 >= 2)\n",
    "print(3 < 2)\n",
    "print(2 < 3)\n",
    "print(2 <= 3)\n",
    "print(3 == 2)\n",
    "print(3 != 2)\n",
    "print(len('mango') == len('avocodo'))\n",
    "print(len('mango') != len('avocodo'))\n",
    "print(len('mango') < len('avocodo'))\n",
    "print(len('milk') != len('meat'))\n",
    "print(len('milk') == len('meat'))\n",
    "print(len('tomato') == len('potato'))\n",
    "print(len('python') > len('dragon'))"
   ]
  },
  {
   "cell_type": "markdown",
   "id": "bb11ed07",
   "metadata": {},
   "source": [
    "# Boolean Comparision"
   ]
  },
  {
   "cell_type": "code",
   "execution_count": 47,
   "id": "2ec74e9f",
   "metadata": {},
   "outputs": [
    {
     "name": "stdout",
     "output_type": "stream",
     "text": [
      "True == True: True\n",
      "True == False: False\n",
      "Flase == False: True\n",
      " True and True: True\n",
      " True or True: True\n"
     ]
    }
   ],
   "source": [
    "print('True == True:', True == True)\n",
    "print('True == False:', True == False)\n",
    "print('Flase == False:', False == False)\n",
    "print(' True and True:', True and True)\n",
    "print(' True or True:', True or True)"
   ]
  },
  {
   "cell_type": "markdown",
   "id": "abecc061",
   "metadata": {},
   "source": [
    "# Another way comparision"
   ]
  },
  {
   "cell_type": "code",
   "execution_count": 59,
   "id": "1c45686e",
   "metadata": {},
   "outputs": [
    {
     "name": "stdout",
     "output_type": "stream",
     "text": [
      "1 is 1 True\n",
      "1 is not 2 True\n",
      "A in Ashi True\n",
      "B in Ashi False\n",
      "True\n",
      "a in an: True\n",
      "4 is 2 ** 2: True\n"
     ]
    },
    {
     "name": "stderr",
     "output_type": "stream",
     "text": [
      "<>:1: SyntaxWarning: \"is\" with 'int' literal. Did you mean \"==\"?\n",
      "<>:2: SyntaxWarning: \"is not\" with 'int' literal. Did you mean \"!=\"?\n",
      "<>:7: SyntaxWarning: \"is\" with 'int' literal. Did you mean \"==\"?\n",
      "<>:1: SyntaxWarning: \"is\" with 'int' literal. Did you mean \"==\"?\n",
      "<>:2: SyntaxWarning: \"is not\" with 'int' literal. Did you mean \"!=\"?\n",
      "<>:7: SyntaxWarning: \"is\" with 'int' literal. Did you mean \"==\"?\n",
      "C:\\Users\\ADITYA\\AppData\\Local\\Temp\\ipykernel_25464\\624047128.py:1: SyntaxWarning: \"is\" with 'int' literal. Did you mean \"==\"?\n",
      "  print('1 is 1', 1 is 1)\n",
      "C:\\Users\\ADITYA\\AppData\\Local\\Temp\\ipykernel_25464\\624047128.py:2: SyntaxWarning: \"is not\" with 'int' literal. Did you mean \"!=\"?\n",
      "  print('1 is not 2', 1 is not 2)\n",
      "C:\\Users\\ADITYA\\AppData\\Local\\Temp\\ipykernel_25464\\624047128.py:7: SyntaxWarning: \"is\" with 'int' literal. Did you mean \"==\"?\n",
      "  print('4 is 2 ** 2:', 4 is 2 ** 2)\n"
     ]
    }
   ],
   "source": [
    "print('1 is 1', 1 is 1)\n",
    "print('1 is not 2', 1 is not 2)\n",
    "print('A in Ashi', 'A' in 'Ashi')\n",
    "print('B in Ashi', 'B' in 'Ashi')\n",
    "print('Coding' in 'Coding for all')\n",
    "print('a in an:', 'a' in 'an')\n",
    "print('4 is 2 ** 2:', 4 is 2 ** 2)"
   ]
  },
  {
   "cell_type": "code",
   "execution_count": 50,
   "id": "442bacf7",
   "metadata": {},
   "outputs": [
    {
     "name": "stdout",
     "output_type": "stream",
     "text": [
      "True\n",
      "False\n",
      "False\n",
      "True\n",
      "True\n",
      "False\n",
      "False\n",
      "False\n",
      "True\n",
      "True\n",
      "False\n"
     ]
    }
   ],
   "source": [
    "print(3 > 2 and 4 > 3)\n",
    "print(3 > 2 and 4 < 3)\n",
    "print(3 < 2 and 4 < 3)\n",
    "print(3 > 2 or 4 > 3)\n",
    "print(3 > 2 or 4 < 3)\n",
    "print(3 < 2 or 4 < 3)\n",
    "print(not 3 > 2)\n",
    "print(not True)\n",
    "print(not False)\n",
    "print(not not True)\n",
    "print(not not False)"
   ]
  },
  {
   "cell_type": "markdown",
   "id": "43e93729",
   "metadata": {},
   "source": [
    "# Variables in Python"
   ]
  },
  {
   "cell_type": "code",
   "execution_count": 56,
   "id": "3880e6c7",
   "metadata": {},
   "outputs": [
    {
     "name": "stdout",
     "output_type": "stream",
     "text": [
      "first name: SAI\n",
      "first name length: 3\n",
      "last name:  CHOUDANTE\n",
      "last name length:  9\n",
      "country:  NANDED\n",
      "city:  MAHARASHTRA\n",
      "age:  18\n",
      "Married:  False\n",
      "skills:  ['HTML', 'CSS', 'JS', 'C', 'PYTHON']\n",
      "personal information:  {'firstname': 'Vansh', 'Lastname': 'Taru', 'Country': 'Finland', 'city': 'Helanski'}\n"
     ]
    }
   ],
   "source": [
    "first_name = 'SAI'\n",
    "last_name = 'CHOUDANTE'\n",
    "country = 'NANDED'\n",
    "city = 'MAHARASHTRA'\n",
    "age = 18\n",
    "is_married = False\n",
    "skills = ['HTML', 'CSS', 'JS', 'C', 'PYTHON']\n",
    "personal_info = {\n",
    "'firstname':'Vansh',\n",
    "'Lastname':'Taru',\n",
    "'Country': 'Finland',\n",
    "'city':'Helanski'}\n",
    "print('first name:', first_name)\n",
    "print('first name length:', len(first_name))\n",
    "print('last name: ', last_name)\n",
    "print('last name length: ', len(last_name))\n",
    "print('country: ', country)\n",
    "print('city: ', city)\n",
    "print('age: ', age)\n",
    "print('Married: ', is_married)\n",
    "print('skills: ', skills)\n",
    "print('personal information: ', personal_info)"
   ]
  },
  {
   "cell_type": "markdown",
   "id": "ebccb5ba",
   "metadata": {},
   "source": [
    "# Declaring multiple variables in one line"
   ]
  },
  {
   "cell_type": "code",
   "execution_count": 58,
   "id": "c8f7fc1f",
   "metadata": {},
   "outputs": [
    {
     "name": "stdout",
     "output_type": "stream",
     "text": [
      "Vansh Taru Helsink 9 False\n",
      "First name: Vansh\n",
      "Last name:  Taru\n",
      "Country:  Helsink\n",
      "Age:  9\n",
      "Married:  False\n"
     ]
    }
   ],
   "source": [
    "first_name, last_name, country, age, is_married = 'Vansh', 'Taru','Helsink', 9, False\n",
    "print(first_name, last_name, country, age, is_married)\n",
    "print('First name:', first_name)\n",
    "print('Last name: ', last_name)\n",
    "print('Country: ', country)\n",
    "print('Age: ', age)\n",
    "print('Married: ', is_married)"
   ]
  }
 ],
 "metadata": {
  "kernelspec": {
   "display_name": "Python 3",
   "language": "python",
   "name": "python3"
  },
  "language_info": {
   "codemirror_mode": {
    "name": "ipython",
    "version": 3
   },
   "file_extension": ".py",
   "mimetype": "text/x-python",
   "name": "python",
   "nbconvert_exporter": "python",
   "pygments_lexer": "ipython3",
   "version": "3.13.1"
  }
 },
 "nbformat": 4,
 "nbformat_minor": 5
}

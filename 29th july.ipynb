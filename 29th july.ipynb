{
 "cells": [
  {
   "cell_type": "code",
   "execution_count": 1,
   "id": "baf46e9f",
   "metadata": {},
   "outputs": [
    {
     "data": {
      "text/plain": [
       "20"
      ]
     },
     "execution_count": 1,
     "metadata": {},
     "output_type": "execute_result"
    }
   ],
   "source": [
    "a=10\n",
    "b=20\n",
    "a\n",
    "b"
   ]
  },
  {
   "cell_type": "code",
   "execution_count": 2,
   "id": "630c0083",
   "metadata": {},
   "outputs": [
    {
     "name": "stdout",
     "output_type": "stream",
     "text": [
      "10\n",
      "20\n"
     ]
    }
   ],
   "source": [
    "a=10\n",
    "b=20\n",
    "print(a)\n",
    "print(b)"
   ]
  },
  {
   "cell_type": "code",
   "execution_count": 3,
   "id": "9e63aeab",
   "metadata": {},
   "outputs": [
    {
     "name": "stdout",
     "output_type": "stream",
     "text": [
      "10\n",
      "10 20\n",
      "python\n",
      "10 20 python\n"
     ]
    }
   ],
   "source": [
    "print(10)\n",
    "print(10,20)\n",
    "print('python')\n",
    "print(10,20,'python')"
   ]
  },
  {
   "cell_type": "code",
   "execution_count": 4,
   "id": "88bf74ad",
   "metadata": {},
   "outputs": [
    {
     "name": "stdout",
     "output_type": "stream",
     "text": [
      "50\n"
     ]
    }
   ],
   "source": [
    "num1=20\n",
    "num2=30\n",
    "add=num1+num2\n",
    "print(add)"
   ]
  },
  {
   "cell_type": "markdown",
   "id": "8a020c2a",
   "metadata": {},
   "source": [
    "# print result with string"
   ]
  },
  {
   "cell_type": "code",
   "execution_count": 5,
   "id": "2db91d3e",
   "metadata": {},
   "outputs": [
    {
     "name": "stdout",
     "output_type": "stream",
     "text": [
      "The addition of 20 and num2 is= 50\n"
     ]
    }
   ],
   "source": [
    "num1=20\n",
    "num2=30\n",
    "add=num1+num2\n",
    "print('The addition of',num1,'and','num2','is=',add)"
   ]
  },
  {
   "cell_type": "code",
   "execution_count": 6,
   "id": "518a3862",
   "metadata": {},
   "outputs": [],
   "source": [
    "name='Mamta'\n",
    "age=20\n",
    "city='Nanded'"
   ]
  },
  {
   "cell_type": "code",
   "execution_count": 7,
   "id": "ae355826",
   "metadata": {},
   "outputs": [
    {
     "name": "stdout",
     "output_type": "stream",
     "text": [
      "My name is Mamta and i am 20 years old form Nanded\n"
     ]
    }
   ],
   "source": [
    "\n",
    "print('My name is', name,'and i am',age,'years old form',city)"
   ]
  },
  {
   "cell_type": "markdown",
   "id": "04331a2c",
   "metadata": {},
   "source": [
    "# print Format Method"
   ]
  },
  {
   "cell_type": "code",
   "execution_count": 8,
   "id": "628c76c7",
   "metadata": {},
   "outputs": [
    {
     "name": "stdout",
     "output_type": "stream",
     "text": [
      "The Addition of 20 and 30 is= 50\n"
     ]
    }
   ],
   "source": [
    "num1=20\n",
    "num2=30\n",
    "add=num1+num2\n",
    "print('The Addition of {} and {} is= {}'.format(num1,num2,add))"
   ]
  },
  {
   "cell_type": "code",
   "execution_count": 10,
   "id": "324f281c",
   "metadata": {},
   "outputs": [],
   "source": [
    "name='Mamta'\n",
    "age=20\n",
    "city='Nan'"
   ]
  },
  {
   "cell_type": "code",
   "execution_count": 11,
   "id": "cf60476b",
   "metadata": {},
   "outputs": [
    {
     "name": "stdout",
     "output_type": "stream",
     "text": [
      "hello my name is Mamta, and i am 20 years old fromNan\n"
     ]
    }
   ],
   "source": [
    "print('hello my name is {}, and i am {} years old from{}'.format(name,age,city))"
   ]
  },
  {
   "cell_type": "code",
   "execution_count": 12,
   "id": "3833382d",
   "metadata": {},
   "outputs": [
    {
     "name": "stdout",
     "output_type": "stream",
     "text": [
      "The average of 100, 25,and 333 is= 152.66666666666666 or 152.67\n"
     ]
    }
   ],
   "source": [
    "num1=100\n",
    "num2=25\n",
    "num3=333\n",
    "avg=(num1+num2+num3)/3\n",
    "avg1=round((num1+num2+num3)/3,2)\n",
    "\n",
    "print('The average of {}, {},and {} is= {} or {}'.format(num1,num2,num3,avg,avg1))"
   ]
  },
  {
   "cell_type": "code",
   "execution_count": 13,
   "id": "ed8afc93",
   "metadata": {},
   "outputs": [
    {
     "data": {
      "text/plain": [
       "152.67"
      ]
     },
     "execution_count": 13,
     "metadata": {},
     "output_type": "execute_result"
    }
   ],
   "source": [
    "round(avg,2)"
   ]
  },
  {
   "cell_type": "code",
   "execution_count": 14,
   "id": "cce4498a",
   "metadata": {},
   "outputs": [
    {
     "name": "stdout",
     "output_type": "stream",
     "text": [
      "The addition of 20 and 30 is= 50\n"
     ]
    }
   ],
   "source": [
    "num1=20\n",
    "num2=30\n",
    "add=num1+num2\n",
    "print(f'The addition of {num1} and {num2} is= {add}')"
   ]
  },
  {
   "cell_type": "code",
   "execution_count": 15,
   "id": "b52b6090",
   "metadata": {},
   "outputs": [],
   "source": [
    "name='Mamta'\n",
    "age=20\n",
    "city='Nan'"
   ]
  },
  {
   "cell_type": "code",
   "execution_count": 16,
   "id": "38ca172f",
   "metadata": {},
   "outputs": [
    {
     "name": "stdout",
     "output_type": "stream",
     "text": [
      "hello my name is Mamta, and i am 20 year old, from Nan.\n"
     ]
    }
   ],
   "source": [
    "print(f'hello my name is {name}, and i am {age} year old, from {city}.')"
   ]
  },
  {
   "cell_type": "code",
   "execution_count": 17,
   "id": "4a9097b7",
   "metadata": {},
   "outputs": [],
   "source": [
    "num1=100\n",
    "num2=25\n",
    "num3=333\n",
    "avg=round((num1+num2+num3)/3,2)"
   ]
  },
  {
   "cell_type": "code",
   "execution_count": 18,
   "id": "2e8d6f04",
   "metadata": {},
   "outputs": [
    {
     "name": "stdout",
     "output_type": "stream",
     "text": [
      "The avrage of 100, 25 and 333 is = 152.67\n"
     ]
    }
   ],
   "source": [
    "print(f'The avrage of {num1}, {num2} and {num3} is = {avg}')"
   ]
  },
  {
   "cell_type": "code",
   "execution_count": 19,
   "id": "b34bdb73",
   "metadata": {},
   "outputs": [
    {
     "name": "stdout",
     "output_type": "stream",
     "text": [
      "The addition of 10 and 20 is= 30\n",
      "The addition of 10 and 20 is= 30\n",
      "The addition of 10 and 20 is= 30\n"
     ]
    }
   ],
   "source": [
    "num1=10\n",
    "num2=20\n",
    "add = num1+ num2\n",
    "print('The addition of',num1,'and',num2,'is=',add)\n",
    "print('The addition of {} and {} is= {}'.format(num1,num2,add))\n",
    "print(f'The addition of {num1} and {num2} is= {add}')"
   ]
  },
  {
   "cell_type": "markdown",
   "id": "7c1d0cc3",
   "metadata": {},
   "source": [
    "# end statement"
   ]
  },
  {
   "cell_type": "code",
   "execution_count": 20,
   "id": "60c90069",
   "metadata": {},
   "outputs": [
    {
     "name": "stdout",
     "output_type": "stream",
     "text": [
      "hello\n",
      "good morning\n"
     ]
    }
   ],
   "source": [
    "print('hello')\n",
    "print('good morning')"
   ]
  },
  {
   "cell_type": "code",
   "execution_count": 22,
   "id": "92395ad9",
   "metadata": {},
   "outputs": [
    {
     "name": "stdout",
     "output_type": "stream",
     "text": [
      "hello world good day\n"
     ]
    }
   ],
   "source": [
    "print('hello', end=' ')\n",
    "print('world good day')"
   ]
  },
  {
   "cell_type": "markdown",
   "id": "a5b20f8d",
   "metadata": {},
   "source": [
    "# seprator"
   ]
  },
  {
   "cell_type": "code",
   "execution_count": 23,
   "id": "8e07202d",
   "metadata": {},
   "outputs": [
    {
     "name": "stdout",
     "output_type": "stream",
     "text": [
      "hello--->hai--->how are you\n"
     ]
    }
   ],
   "source": [
    "print('hello','hai','how are you',sep='--->')"
   ]
  },
  {
   "cell_type": "code",
   "execution_count": 24,
   "id": "245a555e",
   "metadata": {},
   "outputs": [
    {
     "name": "stdout",
     "output_type": "stream",
     "text": [
      "hello&hai&how are you\n"
     ]
    }
   ],
   "source": [
    "print('hello','hai','how are you',sep='&')"
   ]
  },
  {
   "cell_type": "code",
   "execution_count": 25,
   "id": "4022dbca",
   "metadata": {},
   "outputs": [
    {
     "name": "stdout",
     "output_type": "stream",
     "text": [
      "hello@hai@how are you\n"
     ]
    }
   ],
   "source": [
    "print('hello','hai','how are you',sep='@')"
   ]
  },
  {
   "cell_type": "code",
   "execution_count": 26,
   "id": "97985d27",
   "metadata": {},
   "outputs": [
    {
     "name": "stdout",
     "output_type": "stream",
     "text": [
      "hello hai how are you\n"
     ]
    }
   ],
   "source": [
    "print('hello','hai','how are you',sep=' ')"
   ]
  },
  {
   "cell_type": "code",
   "execution_count": 27,
   "id": "80df0cd4",
   "metadata": {},
   "outputs": [
    {
     "name": "stdout",
     "output_type": "stream",
     "text": [
      "3 .\n"
     ]
    }
   ],
   "source": [
    "print(3,('.'))"
   ]
  },
  {
   "cell_type": "code",
   "execution_count": 28,
   "id": "af8436e9",
   "metadata": {},
   "outputs": [
    {
     "name": "stdout",
     "output_type": "stream",
     "text": [
      "3.\n"
     ]
    }
   ],
   "source": [
    "print(3,'.',sep='')"
   ]
  },
  {
   "cell_type": "code",
   "execution_count": 29,
   "id": "a910dea6",
   "metadata": {},
   "outputs": [
    {
     "name": "stdout",
     "output_type": "stream",
     "text": [
      "1 2 3.\n"
     ]
    }
   ],
   "source": [
    "print(1,2,end=' ')\n",
    "print(3,'.',sep='')"
   ]
  },
  {
   "cell_type": "markdown",
   "id": "2b250828",
   "metadata": {},
   "source": [
    "# complex Number"
   ]
  },
  {
   "cell_type": "code",
   "execution_count": 1,
   "id": "4c02e74d",
   "metadata": {},
   "outputs": [],
   "source": [
    "z = 3 + 4j"
   ]
  },
  {
   "cell_type": "code",
   "execution_count": 2,
   "id": "a690c0d8",
   "metadata": {},
   "outputs": [
    {
     "data": {
      "text/plain": [
       "(3+4j)"
      ]
     },
     "execution_count": 2,
     "metadata": {},
     "output_type": "execute_result"
    }
   ],
   "source": [
    "z"
   ]
  },
  {
   "cell_type": "code",
   "execution_count": 3,
   "id": "d6ae9cce",
   "metadata": {},
   "outputs": [],
   "source": [
    "a = 3+ 4j\n",
    "b = 1+ 2j"
   ]
  },
  {
   "cell_type": "code",
   "execution_count": 5,
   "id": "771b2c61",
   "metadata": {},
   "outputs": [
    {
     "name": "stdout",
     "output_type": "stream",
     "text": [
      "(4+6j)\n",
      "(2+2j)\n",
      "(-5+10j)\n",
      "(2.2-0.4j)\n"
     ]
    }
   ],
   "source": [
    "print(a+b)\n",
    "print(a-b)\n",
    "print(a*b)\n",
    "print(a/b)"
   ]
  },
  {
   "cell_type": "code",
   "execution_count": 11,
   "id": "6da8a730",
   "metadata": {},
   "outputs": [
    {
     "name": "stdout",
     "output_type": "stream",
     "text": [
      "5.0\n",
      "(3-4j)\n"
     ]
    }
   ],
   "source": [
    "z = 3 + 4j\n",
    "print(abs(z))\n",
    "print(z.conjugate())"
   ]
  },
  {
   "cell_type": "code",
   "execution_count": 8,
   "id": "efbff5f3",
   "metadata": {},
   "outputs": [
    {
     "name": "stdout",
     "output_type": "stream",
     "text": [
      "0.7853981633974483\n",
      "(1.4142135623730951, 0.7853981633974483)\n",
      "(1.09868411346781+0.45508986056222733j)\n"
     ]
    }
   ],
   "source": [
    "import cmath\n",
    "z = 1 +1j\n",
    "print(cmath.phase(z))\n",
    "print(cmath.polar(z))\n",
    "print(cmath.sqrt(z))"
   ]
  }
 ],
 "metadata": {
  "kernelspec": {
   "display_name": "Python 3",
   "language": "python",
   "name": "python3"
  },
  "language_info": {
   "codemirror_mode": {
    "name": "ipython",
    "version": 3
   },
   "file_extension": ".py",
   "mimetype": "text/x-python",
   "name": "python",
   "nbconvert_exporter": "python",
   "pygments_lexer": "ipython3",
   "version": "3.13.1"
  }
 },
 "nbformat": 4,
 "nbformat_minor": 5
}

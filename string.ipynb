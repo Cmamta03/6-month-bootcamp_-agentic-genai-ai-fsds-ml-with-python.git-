{
 "cells": [
  {
   "cell_type": "markdown",
   "id": "6a5db058",
   "metadata": {},
   "source": [
    "# single line comment"
   ]
  },
  {
   "cell_type": "code",
   "execution_count": 62,
   "id": "78fad43c",
   "metadata": {},
   "outputs": [
    {
     "name": "stdout",
     "output_type": "stream",
     "text": [
      "p\n",
      "1\n",
      "Hello, World!\n",
      "13\n",
      " I hope you are enjoying 30 days of python challenge\n"
     ]
    }
   ],
   "source": [
    "letter ='p'\n",
    "print(letter)\n",
    "print(len(letter))\n",
    "greeting = 'Hello, World!'\n",
    "print(greeting)\n",
    "print(len(greeting))\n",
    "sentence = \" I hope you are enjoying 30 days of python challenge\"\n",
    "print(sentence)"
   ]
  },
  {
   "cell_type": "markdown",
   "id": "4f6b3491",
   "metadata": {},
   "source": [
    "# Multiline String"
   ]
  },
  {
   "cell_type": "code",
   "execution_count": 63,
   "id": "259490bf",
   "metadata": {},
   "outputs": [],
   "source": [
    "multiline_string = '''I am a student and enjoy study.\n",
    "I didn't find anything as rewarding as empowering people.\n",
    "That is way I created 30 days of python.'''"
   ]
  },
  {
   "cell_type": "code",
   "execution_count": 64,
   "id": "0dc67399",
   "metadata": {},
   "outputs": [
    {
     "name": "stdout",
     "output_type": "stream",
     "text": [
      "I am a student and enjoy study.\n",
      "I didn't find anything as rewarding as empowering people.\n",
      "That is way I created 30 days of python.\n"
     ]
    }
   ],
   "source": [
    "print(multiline_string)"
   ]
  },
  {
   "cell_type": "markdown",
   "id": "35a18022",
   "metadata": {},
   "source": [
    "# Another way of doing the same thing"
   ]
  },
  {
   "cell_type": "code",
   "execution_count": 65,
   "id": "e41704f9",
   "metadata": {},
   "outputs": [],
   "source": [
    "multiline_string = \"\"\"I am a student and enjoy study.\n",
    "I didn't find anything as rewarding as enpowering people.\n",
    "That is why I created 30 days of python.\"\"\""
   ]
  },
  {
   "cell_type": "code",
   "execution_count": 66,
   "id": "a5f7ac3e",
   "metadata": {},
   "outputs": [
    {
     "name": "stdout",
     "output_type": "stream",
     "text": [
      "I am a student and enjoy study.\n",
      "I didn't find anything as rewarding as enpowering people.\n",
      "That is why I created 30 days of python.\n"
     ]
    }
   ],
   "source": [
    "print(multiline_string)"
   ]
  },
  {
   "cell_type": "markdown",
   "id": "681888fd",
   "metadata": {},
   "source": [
    "# String Concatenation"
   ]
  },
  {
   "cell_type": "code",
   "execution_count": 67,
   "id": "e71d59bc",
   "metadata": {},
   "outputs": [
    {
     "name": "stdout",
     "output_type": "stream",
     "text": [
      "Mamta choudante\n"
     ]
    }
   ],
   "source": [
    "first_name= 'Mamta'\n",
    "last_name= 'choudante'\n",
    "space=' '\n",
    "full_name = first_name + space + last_name\n",
    "print(full_name)"
   ]
  },
  {
   "cell_type": "code",
   "execution_count": 68,
   "id": "c56f247f",
   "metadata": {},
   "outputs": [
    {
     "name": "stdout",
     "output_type": "stream",
     "text": [
      "5\n",
      "9\n",
      "True\n",
      "15\n"
     ]
    }
   ],
   "source": [
    "print(len(first_name))\n",
    "print(len(last_name))\n",
    "print(len(first_name) < len(last_name))\n",
    "print(len(full_name))"
   ]
  },
  {
   "cell_type": "markdown",
   "id": "b9a7ab6b",
   "metadata": {},
   "source": [
    "## Unpacking characters"
   ]
  },
  {
   "cell_type": "code",
   "execution_count": 69,
   "id": "2bbdccb0",
   "metadata": {},
   "outputs": [
    {
     "name": "stdout",
     "output_type": "stream",
     "text": [
      "p\n",
      "y\n",
      "t\n",
      "h\n",
      "o\n",
      "n\n"
     ]
    }
   ],
   "source": [
    "language = 'python'\n",
    "a,b,c,d,e,f = language\n",
    "print(a)\n",
    "print(b)\n",
    "print(c)\n",
    "print(d)\n",
    "print(e)\n",
    "print(f)"
   ]
  },
  {
   "cell_type": "markdown",
   "id": "17fab6cd",
   "metadata": {},
   "source": [
    "# Accessing characters in strings by index"
   ]
  },
  {
   "cell_type": "code",
   "execution_count": 70,
   "id": "5f8f55a5",
   "metadata": {},
   "outputs": [
    {
     "name": "stdout",
     "output_type": "stream",
     "text": [
      "p\n",
      "y\n",
      "n\n"
     ]
    }
   ],
   "source": [
    "language = 'python'\n",
    "first_letter = language[0]\n",
    "print(first_letter)\n",
    "second_letter = language[1]\n",
    "print(second_letter)\n",
    "last_index = len(language) - 1\n",
    "last_letter = language[last_index]\n",
    "print(last_letter)"
   ]
  },
  {
   "cell_type": "markdown",
   "id": "b0ef5241",
   "metadata": {},
   "source": [
    "# if we want to start from right end we can use negative indexing. -1 is the last index"
   ]
  },
  {
   "cell_type": "code",
   "execution_count": 71,
   "id": "9a89cd64",
   "metadata": {},
   "outputs": [
    {
     "name": "stdout",
     "output_type": "stream",
     "text": [
      "n\n",
      "o\n"
     ]
    }
   ],
   "source": [
    "language = 'python'\n",
    "last_letter = language[-1]\n",
    "print(last_letter)\n",
    "second_last = language[-2]\n",
    "print(second_last)"
   ]
  },
  {
   "cell_type": "markdown",
   "id": "c4859c49",
   "metadata": {},
   "source": [
    "# Slicing"
   ]
  },
  {
   "cell_type": "code",
   "execution_count": 72,
   "id": "1d1f7c65",
   "metadata": {},
   "outputs": [
    {
     "name": "stdout",
     "output_type": "stream",
     "text": [
      "pyt\n",
      "hon\n",
      "hon\n",
      "hon\n"
     ]
    }
   ],
   "source": [
    "language = 'python'\n",
    "first_three = language[0:3]\n",
    "print(first_three)\n",
    "last_three = language[3:6]\n",
    "print(last_three)\n",
    "last_three = language[-3:]\n",
    "print(last_three)\n",
    "last_three = language[3:]\n",
    "print(last_three)"
   ]
  },
  {
   "cell_type": "markdown",
   "id": "a276a924",
   "metadata": {},
   "source": [
    "# Escape sequance "
   ]
  },
  {
   "cell_type": "code",
   "execution_count": 73,
   "id": "e2da1897",
   "metadata": {},
   "outputs": [
    {
     "name": "stdout",
     "output_type": "stream",
     "text": [
      "I hope every one enjoing the python challenge. \n",
      "Do you ?\n",
      "Days\tTopics\tExercises\n",
      "Day 1\t3\t5\n",
      "Day 2\t3\t5\n",
      "Day 3\t3\t5\n",
      "Day 4\t3\t5\n",
      "This is a back slash symbol(\\)\n",
      "In every programming language it starts with \"Hello, World!\"\n"
     ]
    }
   ],
   "source": [
    "print('I hope every one enjoing the python challenge. \\nDo you ?')\n",
    "print('Days\\tTopics\\tExercises')\n",
    "print('Day 1\\t3\\t5')\n",
    "print('Day 2\\t3\\t5')\n",
    "print('Day 3\\t3\\t5')\n",
    "print('Day 4\\t3\\t5')\n",
    "print('This is a back slash symbol(\\\\)')\n",
    "print('In every programming language it starts with \\\"Hello, World!\\\"')"
   ]
  },
  {
   "cell_type": "markdown",
   "id": "564bb267",
   "metadata": {},
   "source": [
    "# string Method"
   ]
  },
  {
   "cell_type": "markdown",
   "id": "6bf18a79",
   "metadata": {},
   "source": [
    "## capitalize(): Converts the first character the string to capital letter"
   ]
  },
  {
   "cell_type": "code",
   "execution_count": 74,
   "id": "260df7d7",
   "metadata": {},
   "outputs": [
    {
     "name": "stdout",
     "output_type": "stream",
     "text": [
      "Thirty days of python\n"
     ]
    }
   ],
   "source": [
    "challenge = 'thirty days of python'\n",
    "print(challenge.capitalize())"
   ]
  },
  {
   "cell_type": "markdown",
   "id": "fb67c1be",
   "metadata": {},
   "source": [
    "# count (): returns occurences of substring in string, count(substring, start=.., end=..)"
   ]
  },
  {
   "cell_type": "code",
   "execution_count": 75,
   "id": "e33fa5d9",
   "metadata": {},
   "outputs": [
    {
     "name": "stdout",
     "output_type": "stream",
     "text": [
      "3\n",
      "1\n",
      "2\n"
     ]
    }
   ],
   "source": [
    "challenge = 'thirty days of python'\n",
    "print(challenge.count('y'))\n",
    "print(challenge.count('y', 7, 14))\n",
    "print(challenge.count('th'))"
   ]
  },
  {
   "cell_type": "markdown",
   "id": "d613f591",
   "metadata": {},
   "source": [
    "# endswith(): Checks if a string ends with a specified ending"
   ]
  },
  {
   "cell_type": "code",
   "execution_count": 76,
   "id": "7743293c",
   "metadata": {},
   "outputs": [
    {
     "name": "stdout",
     "output_type": "stream",
     "text": [
      "True\n",
      "False\n"
     ]
    }
   ],
   "source": [
    "challenge = 'thirty days of python'\n",
    "print(challenge.endswith('on'))\n",
    "print(challenge.endswith('tion'))"
   ]
  },
  {
   "cell_type": "markdown",
   "id": "1c8955b5",
   "metadata": {},
   "source": [
    "# expandtabs(): Replaces tab character with spaces, default tab size is 8. It takes tab size argument"
   ]
  },
  {
   "cell_type": "code",
   "execution_count": 77,
   "id": "3979daa9",
   "metadata": {},
   "outputs": [
    {
     "name": "stdout",
     "output_type": "stream",
     "text": [
      "thirty  days    of      python\n",
      "thirty    days      of        python\n"
     ]
    }
   ],
   "source": [
    "challenge = 'thirty\\tdays\\tof\\tpython'\n",
    "print(challenge.expandtabs())\n",
    "print(challenge.expandtabs(10))"
   ]
  },
  {
   "cell_type": "markdown",
   "id": "657ebd58",
   "metadata": {},
   "source": [
    "# find(): Returns the index of first occurrence of substring"
   ]
  },
  {
   "cell_type": "code",
   "execution_count": 78,
   "id": "0bbc7aca",
   "metadata": {},
   "outputs": [
    {
     "name": "stdout",
     "output_type": "stream",
     "text": [
      "5\n",
      "0\n"
     ]
    }
   ],
   "source": [
    "challenge = 'thirty days of python'\n",
    "print(challenge.find('y'))\n",
    "print(challenge.find('th'))"
   ]
  },
  {
   "cell_type": "markdown",
   "id": "113620d6",
   "metadata": {},
   "source": [
    "# format() formats string into nicer output"
   ]
  },
  {
   "cell_type": "code",
   "execution_count": 79,
   "id": "df5d37b6",
   "metadata": {},
   "outputs": [
    {
     "name": "stdout",
     "output_type": "stream",
     "text": [
      "I am Sai choudante. I am a student. I live in India.\n"
     ]
    }
   ],
   "source": [
    "first_name = 'Sai'\n",
    "last_name = 'choudante'\n",
    "job = 'student'\n",
    "country = 'India'\n",
    "sentence = 'I am {} {}. I am a {}. I live in {}.'.format(first_name, last_name, job, country)\n",
    "print(sentence)"
   ]
  },
  {
   "cell_type": "code",
   "execution_count": 80,
   "id": "b689de52",
   "metadata": {},
   "outputs": [
    {
     "name": "stdout",
     "output_type": "stream",
     "text": [
      "The area of circle with 10 is 62.800000000000004\n"
     ]
    }
   ],
   "source": [
    "radius = 10\n",
    "pi = 3.14\n",
    "area = pi*2*radius\n",
    "result = 'The area of circle with {} is {}'. format(str(radius), str(area))\n",
    "print(result)\n"
   ]
  },
  {
   "cell_type": "markdown",
   "id": "179c0f43",
   "metadata": {},
   "source": [
    "# index(): Returns the index of substring"
   ]
  },
  {
   "cell_type": "code",
   "execution_count": 81,
   "id": "ec8c5320",
   "metadata": {},
   "outputs": [
    {
     "name": "stdout",
     "output_type": "stream",
     "text": [
      "5\n",
      "0\n"
     ]
    }
   ],
   "source": [
    "challenge = 'thirty days of python'\n",
    "print(challenge.find('y'))\n",
    "print(challenge.find('th'))"
   ]
  },
  {
   "cell_type": "markdown",
   "id": "9accb0eb",
   "metadata": {},
   "source": [
    "# isalnum(); Checks alphanumeric character"
   ]
  },
  {
   "cell_type": "code",
   "execution_count": 82,
   "id": "d297222d",
   "metadata": {},
   "outputs": [
    {
     "name": "stdout",
     "output_type": "stream",
     "text": [
      "True\n"
     ]
    }
   ],
   "source": [
    "challenge = 'ThirtyDaysPython'\n",
    "print(challenge.isalnum())"
   ]
  },
  {
   "cell_type": "code",
   "execution_count": 83,
   "id": "915d5b39",
   "metadata": {},
   "outputs": [
    {
     "name": "stdout",
     "output_type": "stream",
     "text": [
      "True\n"
     ]
    }
   ],
   "source": [
    "challenge = '30DaysPython'\n",
    "print(challenge.isalnum())"
   ]
  },
  {
   "cell_type": "code",
   "execution_count": 84,
   "id": "020eb726",
   "metadata": {},
   "outputs": [
    {
     "name": "stdout",
     "output_type": "stream",
     "text": [
      "False\n"
     ]
    }
   ],
   "source": [
    "challenge = 'thirty days of python'\n",
    "print(challenge.isalnum())"
   ]
  },
  {
   "cell_type": "code",
   "execution_count": 85,
   "id": "350d9701",
   "metadata": {},
   "outputs": [
    {
     "name": "stdout",
     "output_type": "stream",
     "text": [
      "False\n"
     ]
    }
   ],
   "source": [
    "challenge = 'thirty days of python 2019'\n",
    "print(challenge.isalnum())"
   ]
  },
  {
   "cell_type": "markdown",
   "id": "bce25c30",
   "metadata": {},
   "source": [
    "# isdecimal(): Checks Decimal Characters"
   ]
  },
  {
   "cell_type": "code",
   "execution_count": 86,
   "id": "e4fba177",
   "metadata": {},
   "outputs": [
    {
     "name": "stdout",
     "output_type": "stream",
     "text": [
      "5\n",
      "0\n"
     ]
    }
   ],
   "source": [
    "challenge = 'thirty days of python'\n",
    "print(challenge.find('y'))\n",
    "print(challenge.find('th'))"
   ]
  },
  {
   "cell_type": "markdown",
   "id": "434de430",
   "metadata": {},
   "source": [
    "# isalpha(): Checks if all Characters are alphabets"
   ]
  },
  {
   "cell_type": "code",
   "execution_count": 87,
   "id": "4fd96636",
   "metadata": {},
   "outputs": [
    {
     "name": "stdout",
     "output_type": "stream",
     "text": [
      "True\n",
      "False\n"
     ]
    }
   ],
   "source": [
    "challenge = 'thirtydaysofpython'\n",
    "print(challenge.isalpha())\n",
    "num = '123'\n",
    "print(num.isalpha())"
   ]
  },
  {
   "cell_type": "markdown",
   "id": "76f4bac7",
   "metadata": {},
   "source": [
    "# isdigit(): Checks Digit Characters"
   ]
  },
  {
   "cell_type": "code",
   "execution_count": 88,
   "id": "945842a4",
   "metadata": {},
   "outputs": [
    {
     "name": "stdout",
     "output_type": "stream",
     "text": [
      "False\n",
      "True\n"
     ]
    }
   ],
   "source": [
    "challenge = 'Thirty'\n",
    "print(challenge.isdigit())\n",
    "challenge = '30'\n",
    "print(challenge.isdigit())"
   ]
  },
  {
   "cell_type": "markdown",
   "id": "75c26058",
   "metadata": {},
   "source": [
    "# indesimal():Checks decimal characters"
   ]
  },
  {
   "cell_type": "code",
   "execution_count": 89,
   "id": "2d306636",
   "metadata": {},
   "outputs": [
    {
     "name": "stdout",
     "output_type": "stream",
     "text": [
      "True\n",
      "False\n"
     ]
    }
   ],
   "source": [
    "num = '10'\n",
    "print(num.isdecimal())\n",
    "num = '10.5'\n",
    "print(num.isdecimal())"
   ]
  },
  {
   "cell_type": "markdown",
   "id": "b811c442",
   "metadata": {},
   "source": [
    "# isidentifier(): Checks for valid identifier means it check if a valid variable name"
   ]
  },
  {
   "cell_type": "code",
   "execution_count": 7,
   "id": "f031361c",
   "metadata": {},
   "outputs": [
    {
     "name": "stdout",
     "output_type": "stream",
     "text": [
      "False\n",
      "True\n"
     ]
    }
   ],
   "source": [
    "challenge = '30DaysOfPython'\n",
    "print(challenge.isidentifier())\n",
    "challenge = 'thirty_days_of_python'\n",
    "print(challenge.isidentifier())"
   ]
  },
  {
   "cell_type": "markdown",
   "id": "63653e57",
   "metadata": {},
   "source": [
    "# islower(): Checks if all alphabets in a string are lowercase"
   ]
  },
  {
   "cell_type": "code",
   "execution_count": 9,
   "id": "1a0b81af",
   "metadata": {},
   "outputs": [
    {
     "name": "stdout",
     "output_type": "stream",
     "text": [
      "True\n",
      "False\n"
     ]
    }
   ],
   "source": [
    "challenge = 'thirty days of python'\n",
    "print(challenge.islower())\n",
    "challenge = 'Thirty Days Of Python'\n",
    "print(challenge.islower())"
   ]
  },
  {
   "cell_type": "markdown",
   "id": "8d3cc7a2",
   "metadata": {},
   "source": [
    "# isupper(): returns if all characters are uppercase characters"
   ]
  },
  {
   "cell_type": "code",
   "execution_count": 12,
   "id": "dbaab769",
   "metadata": {},
   "outputs": [
    {
     "name": "stdout",
     "output_type": "stream",
     "text": [
      "False\n",
      "True\n"
     ]
    }
   ],
   "source": [
    "challenge = 'thirty days of python'\n",
    "print(challenge.isupper())\n",
    "challenge = 'THIRTY DAYS OF PYTHON'\n",
    "print(challenge.isupper())"
   ]
  },
  {
   "cell_type": "markdown",
   "id": "1d0766a5",
   "metadata": {},
   "source": [
    "# isnumeric():Checks numeric characters"
   ]
  },
  {
   "cell_type": "code",
   "execution_count": 14,
   "id": "1255ff29",
   "metadata": {},
   "outputs": [
    {
     "name": "stdout",
     "output_type": "stream",
     "text": [
      "True\n",
      "False\n"
     ]
    }
   ],
   "source": [
    "num = '10'\n",
    "print(num.isnumeric())\n",
    "print('ten'.isnumeric())"
   ]
  },
  {
   "cell_type": "markdown",
   "id": "b6ce0de3",
   "metadata": {},
   "source": [
    "# join(): Returns a concatenated string"
   ]
  },
  {
   "cell_type": "code",
   "execution_count": 15,
   "id": "cfc6cd76",
   "metadata": {},
   "outputs": [
    {
     "name": "stdout",
     "output_type": "stream",
     "text": [
      "HTML#, CSS#, JAVAScript#, React\n"
     ]
    }
   ],
   "source": [
    "web_tech = ['HTML', 'CSS', 'JAVAScript', 'React']\n",
    "result = '#, '.join(web_tech)\n",
    "print(result)"
   ]
  },
  {
   "cell_type": "markdown",
   "id": "23c3e373",
   "metadata": {},
   "source": [
    "# strip(): Removes both leading and trailing characters"
   ]
  },
  {
   "cell_type": "code",
   "execution_count": 17,
   "id": "9dd0e70d",
   "metadata": {},
   "outputs": [
    {
     "name": "stdout",
     "output_type": "stream",
     "text": [
      "thirty days of python \n"
     ]
    }
   ],
   "source": [
    "challenge = 'thirty days of python '\n",
    "print(challenge.strip('y'))"
   ]
  },
  {
   "cell_type": "markdown",
   "id": "c25ac8e3",
   "metadata": {},
   "source": [
    "# replace(): Replaces substring inside"
   ]
  },
  {
   "cell_type": "code",
   "execution_count": 19,
   "id": "0a196d08",
   "metadata": {},
   "outputs": [
    {
     "name": "stdout",
     "output_type": "stream",
     "text": [
      "thirty days of coding\n"
     ]
    }
   ],
   "source": [
    "challenge =  'thirty days of python'\n",
    "print(challenge.replace('python', 'coding'))"
   ]
  },
  {
   "cell_type": "markdown",
   "id": "59f5e8ae",
   "metadata": {},
   "source": [
    "# split():Splits String from Left"
   ]
  },
  {
   "cell_type": "code",
   "execution_count": 23,
   "id": "d32f9de1",
   "metadata": {},
   "outputs": [
    {
     "name": "stdout",
     "output_type": "stream",
     "text": [
      "['thirty', 'days', 'of', 'python']\n"
     ]
    }
   ],
   "source": [
    "challenge = 'thirty days of python'\n",
    "print(challenge.split())"
   ]
  },
  {
   "cell_type": "markdown",
   "id": "4e1cc578",
   "metadata": {},
   "source": [
    "# title(): Returns a Title Cased String"
   ]
  },
  {
   "cell_type": "code",
   "execution_count": 22,
   "id": "20c7964a",
   "metadata": {},
   "outputs": [
    {
     "name": "stdout",
     "output_type": "stream",
     "text": [
      "Thirty Days Of Python\n"
     ]
    }
   ],
   "source": [
    "challenge = 'thirty days of python'\n",
    "print(challenge.title()) # Thirty Days Of Python"
   ]
  },
  {
   "cell_type": "markdown",
   "id": "0213940f",
   "metadata": {},
   "source": [
    "# swapcase(): Checks if String Starts with the Specified String\n",
    "  "
   ]
  },
  {
   "cell_type": "code",
   "execution_count": 21,
   "id": "3649e219",
   "metadata": {},
   "outputs": [
    {
     "name": "stdout",
     "output_type": "stream",
     "text": [
      "THIRTY DAYS OF PYTHON\n",
      "tHIRTY dAYS oF pYTHON\n"
     ]
    }
   ],
   "source": [
    "challenge = 'thirty days of python'\n",
    "print(challenge.swapcase())  \n",
    "challenge = 'Thirty Days Of Python'\n",
    "print(challenge.swapcase())  "
   ]
  },
  {
   "cell_type": "markdown",
   "id": "f2a61b29",
   "metadata": {},
   "source": [
    "# startswith(): Checks if String Starts with the Specified String"
   ]
  },
  {
   "cell_type": "code",
   "execution_count": 20,
   "id": "a6c468bf",
   "metadata": {},
   "outputs": [
    {
     "name": "stdout",
     "output_type": "stream",
     "text": [
      "True\n",
      "False\n"
     ]
    }
   ],
   "source": [
    "challenge = 'thirty days of python'\n",
    "print(challenge.startswith('thirty')) \n",
    "challenge = '30 days of python'\n",
    "print(challenge.startswith('thirty')) "
   ]
  }
 ],
 "metadata": {
  "kernelspec": {
   "display_name": "Python 3",
   "language": "python",
   "name": "python3"
  },
  "language_info": {
   "codemirror_mode": {
    "name": "ipython",
    "version": 3
   },
   "file_extension": ".py",
   "mimetype": "text/x-python",
   "name": "python",
   "nbconvert_exporter": "python",
   "pygments_lexer": "ipython3",
   "version": "3.13.1"
  }
 },
 "nbformat": 4,
 "nbformat_minor": 5
}
